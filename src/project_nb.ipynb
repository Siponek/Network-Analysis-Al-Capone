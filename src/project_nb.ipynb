{
 "cells": [
  {
   "cell_type": "code",
   "execution_count": 1,
   "metadata": {},
   "outputs": [],
   "source": [
    "import networkx as nx\n",
    "from pathlib import Path\n",
    "import matplotlib.pyplot as plt"
   ]
  },
  {
   "cell_type": "code",
   "execution_count": 2,
   "metadata": {},
   "outputs": [
    {
     "name": "stdout",
     "output_type": "stream",
     "text": [
      "Using dataset from c:\\Users\\szink\\Desktop\\programming\\NetworkAnalysis\\assigment1\\src\\..\\data\\bn-mouse-kasthuri_graph_v4.edges\n",
      "#nodes: 1029 and #edges: 1559\n"
     ]
    }
   ],
   "source": [
    "# Import Dataset\n",
    "DATA_PATH = Path('../data/bn-mouse-kasthuri_graph_v4.edges')\n",
    "print(f\"Using dataset from {DATA_PATH.absolute()}\")\n",
    "G = nx.read_edgelist(path=DATA_PATH, create_using=nx.Graph(), nodetype=int)\n",
    "print('#nodes:', len(G.nodes()), 'and', '#edges:', len(G.edges()))\n",
    "graph_is_connected = nx.is_connected(G)"
   ]
  },
  {
   "cell_type": "markdown",
   "metadata": {},
   "source": [
    "### Visualize the graph of the problem"
   ]
  },
  {
   "cell_type": "code",
   "execution_count": 3,
   "metadata": {},
   "outputs": [],
   "source": [
    "layout = nx.fruchterman_reingold_layout(G)\n",
    "# plt.figure(figsize=(50,50), dpi=400)\n",
    "# plt.axis(\"off\")\n",
    "# nx.draw_networkx(G, layout, with_labels=False, node_size=35, node_color=\"blue\", edge_color=\"gray\", alpha=0.5)"
   ]
  },
  {
   "cell_type": "markdown",
   "metadata": {},
   "source": [
    "### Export to Gephi"
   ]
  },
  {
   "cell_type": "code",
   "execution_count": 4,
   "metadata": {},
   "outputs": [],
   "source": [
    "out_path:Path = DATA_PATH.parent.parent.joinpath(\"out\")\n",
    "nx.write_gexf(G, out_path.joinpath(\"gephi_graph.gexf\"))\n",
    "nx.write_graphml(G, out_path.joinpath(\"graphia_graph.graphml\"))"
   ]
  },
  {
   "cell_type": "markdown",
   "metadata": {},
   "source": [
    "### Degree Distribution"
   ]
  },
  {
   "cell_type": "code",
   "execution_count": 35,
   "metadata": {},
   "outputs": [
    {
     "data": {
      "image/png": "[encoded data removed]",
      "text/plain": [
       "<Figure size 640x480 with 1 Axes>"
      ]
     },
     "metadata": {},
     "output_type": "display_data"
    }
   ],
   "source": [
    "degrees = [degree for node, degree in G.degree()]\n",
    "plt.hist(degrees, bins='auto')\n",
    "plt.title(\"Degree Distribution\")\n",
    "plt.xlabel(\"Degree\")\n",
    "plt.ylabel(\"Number of Nodes\")\n",
    "plt.show()"
   ]
  },
  {
   "cell_type": "markdown",
   "metadata": {},
   "source": [
    "### Betweenness Centrality"
   ]
  },
  {
   "cell_type": "code",
   "execution_count": 6,
   "metadata": {},
   "outputs": [
    {
     "data": {
      "text/plain": [
       "[(6, 0.3046974535472064),\n",
       " (83, 0.1942646504778429),\n",
       " (92, 0.10778128627907003),\n",
       " (0, 0.0930662752322449),\n",
       " (35, 0.0738254230136326),\n",
       " (218, 0.06249438279834473),\n",
       " (14, 0.04906181353821221),\n",
       " (37, 0.03815055957434244),\n",
       " (402, 0.03768180358917816),\n",
       " (111, 0.03629008523275903)]"
      ]
     },
     "execution_count": 6,
     "metadata": {},
     "output_type": "execute_result"
    }
   ],
   "source": [
    "# Calculate betweeness centrality and sort from the highest value\n",
    "sorted(nx.betweenness_centrality(G, normalized=True).items(), key=lambda x:x[1], reverse=True)[0:10]"
   ]
  },
  {
   "cell_type": "markdown",
   "metadata": {},
   "source": [
    "### Centrality Measures"
   ]
  },
  {
   "cell_type": "code",
   "execution_count": 37,
   "metadata": {},
   "outputs": [
    {
     "name": "stdout",
     "output_type": "stream",
     "text": [
      "Node with highest degree centrality: 6\n",
      "Top 10 nodes with highest degree centrality: [(6, 0.11964980544747082), (83, 0.08463035019455253), (92, 0.049610894941634245), (0, 0.047665369649805445), (35, 0.04377431906614786), (218, 0.03599221789883268), (14, 0.0311284046692607), (66, 0.02529182879377432), (37, 0.024319066147859923), (718, 0.023346303501945526)]\n",
      "Node with highest betweenness centrality: 6\n",
      "Top 10 nodes with highest betweenness centrality: [(6, 0.3046974535472064), (83, 0.1942646504778429), (92, 0.10778128627907003), (0, 0.0930662752322449), (35, 0.0738254230136326), (218, 0.06249438279834473), (14, 0.04906181353821221), (37, 0.03815055957434244), (402, 0.03768180358917816), (111, 0.03629008523275903)]\n",
      "Node with highest closeness centrality: 6\n",
      "Top 10 nodes with highest closeness centrality: [(6, 0.31263337299417954), (83, 0.2963697754018781), (92, 0.2774174107677891), (0, 0.2766060114967514), (147, 0.27364466241533364), (561, 0.27128971695564913), (210, 0.2697421429855656), (111, 0.2676049669800207), (496, 0.265054919648933), (218, 0.2640926984941058)]\n",
      "Node with highest eigenvector centrality: 6\n",
      "Top 10 nodes with highest eigenvector centrality: [(6, 0.6212054855818037), (83, 0.20514153946452704), (92, 0.14722683811131124), (0, 0.11235963176024505), (210, 0.09060990012397524), (147, 0.08844256191174682), (561, 0.08662364577477094), (496, 0.08209463011722705), (112, 0.07881293739059789), (378, 0.07768149589907879)]\n"
     ]
    }
   ],
   "source": [
    "# Degree Centrality\n",
    "degree_centrality = nx.degree_centrality(G)\n",
    "# Betweenness Centrality\n",
    "betweenness_centrality = nx.betweenness_centrality(G)\n",
    "# Closeness Centrality\n",
    "closeness_centrality = nx.closeness_centrality(G)\n",
    "eigen = nx.eigenvector_centrality(G)\n",
    "\n",
    "# Identifying the node with the highest degree centrality\n",
    "max_degree_centrality_node = max(degree_centrality, key=degree_centrality.get)\n",
    "all_degree_centrality = sorted(degree_centrality.items(), key=lambda x:x[1], reverse=True)\n",
    "print(f\"Node with highest degree centrality: {max_degree_centrality_node}\")\n",
    "print(f\"Top 10 nodes with highest degree centrality: {all_degree_centrality[0:10]}\")\n",
    "\n",
    "# Identifying the node with the highest betweenness centrality\n",
    "max_betweenness_centrality_node = max(betweenness_centrality, key=betweenness_centrality.get)\n",
    "all_betweenness_centrality = sorted(betweenness_centrality.items(), key=lambda x:x[1], reverse=True)\n",
    "print(f\"Node with highest betweenness centrality: {max_betweenness_centrality_node}\")\n",
    "print(f\"Top 10 nodes with highest betweenness centrality: {all_betweenness_centrality[0:10]}\")\n",
    "\n",
    "# Identifying the node with the highest closeness centrality\n",
    "max_closeness_centrality_node = max(closeness_centrality, key=closeness_centrality.get)\n",
    "all_closeness_centrality = sorted(closeness_centrality.items(), key=lambda x:x[1], reverse=True)\n",
    "print(f\"Node with highest closeness centrality: {max_closeness_centrality_node}\")\n",
    "print(f\"Top 10 nodes with highest closeness centrality: {all_closeness_centrality[0:10]}\")\n",
    "\n",
    "max_eigen = max(eigen, key=eigen.get)\n",
    "all_eigen = sorted(eigen.items(), key=lambda x:x[1], reverse=True)\n",
    "print(f\"Node with highest eigenvector centrality: {max_eigen}\")\n",
    "print(f\"Top 10 nodes with highest eigenvector centrality: {all_eigen[0:10]}\")"
   ]
  },
  {
   "cell_type": "markdown",
   "metadata": {},
   "source": [
    "### Eigenvector Centrality"
   ]
  },
  {
   "cell_type": "code",
   "execution_count": 9,
   "metadata": {},
   "outputs": [
    {
     "name": "stdout",
     "output_type": "stream",
     "text": [
      "Node with highest eigenvector centrality: 6\n",
      "Top 10 nodes with highest eigenvector centrality: [(6, 0.6212054855818037), (83, 0.20514153946452704), (92, 0.14722683811131124), (0, 0.11235963176024505), (210, 0.09060990012397524), (147, 0.08844256191174682), (561, 0.08662364577477094), (496, 0.08209463011722705), (112, 0.07881293739059789), (378, 0.07768149589907879)]\n"
     ]
    }
   ],
   "source": [
    "eigen = nx.eigenvector_centrality(G)\n",
    "print(f\"Node with highest eigenvector centrality: {max(eigen, key=eigen.get)}\")\n",
    "all_eigen = sorted(eigen.items(), key=lambda x:x[1], reverse=True)\n",
    "print(f\"Top 10 nodes with highest eigenvector centrality: {all_eigen[0:10]}\")"
   ]
  },
  {
   "cell_type": "markdown",
   "metadata": {},
   "source": [
    "### Average Path Length (for connected components)"
   ]
  },
  {
   "cell_type": "code",
   "execution_count": 10,
   "metadata": {},
   "outputs": [
    {
     "name": "stdout",
     "output_type": "stream",
     "text": [
      "Graph is not fully connected. Consider calculating average path length for largest connected component.\n"
     ]
    }
   ],
   "source": [
    "if graph_is_connected:\n",
    "    avg_path_length = nx.average_shortest_path_length(G)\n",
    "    print(f\"Average path length: {avg_path_length}\")\n",
    "else:\n",
    "    print(\"Graph is not fully connected. Consider calculating average path length for largest connected component.\")\n"
   ]
  },
  {
   "cell_type": "markdown",
   "metadata": {},
   "source": [
    "### Network Density"
   ]
  },
  {
   "cell_type": "code",
   "execution_count": 11,
   "metadata": {},
   "outputs": [
    {
     "name": "stdout",
     "output_type": "stream",
     "text": [
      "Graph is not fully connected. Consider calculating diameter for largest connected component.\n"
     ]
    }
   ],
   "source": [
    "if graph_is_connected:\n",
    "    diameter = nx.diameter(G)\n",
    "    print(f\"Diameter: {diameter}\")\n",
    "else:\n",
    "    print(\"Graph is not fully connected. Consider calculating diameter for largest connected component.\")"
   ]
  },
  {
   "cell_type": "markdown",
   "metadata": {},
   "source": [
    "### Average Shortest Path Lenght and Network Diameter"
   ]
  },
  {
   "cell_type": "code",
   "execution_count": 43,
   "metadata": {},
   "outputs": [
    {
     "name": "stdout",
     "output_type": "stream",
     "text": [
      "Average path length (largest connected component): 4.913580399144251\n",
      "Diameter (largest connected component): 12\n"
     ]
    }
   ],
   "source": [
    "if graph_is_connected:\n",
    "    avg_path_length = nx.average_shortest_path_length(G)\n",
    "    diameter = nx.diameter(G)\n",
    "    print(\"Average path length:\", avg_path_length)\n",
    "    print(\"Diameter:\", diameter)\n",
    "else:\n",
    "    largest_cc = max(nx.connected_components(G), key=len)\n",
    "    subgraph = G.subgraph(largest_cc)\n",
    "    avg_path_length = nx.average_shortest_path_length(subgraph)\n",
    "    diameter = nx.diameter(subgraph)\n",
    "    print(\"Average path length (largest connected component):\", avg_path_length)\n",
    "    print(\"Diameter (largest connected component):\", diameter)\n"
   ]
  },
  {
   "cell_type": "markdown",
   "metadata": {},
   "source": [
    "### Assortativity"
   ]
  },
  {
   "cell_type": "code",
   "execution_count": 14,
   "metadata": {},
   "outputs": [
    {
     "name": "stdout",
     "output_type": "stream",
     "text": [
      "Assortativity: -0.2362722444161856\n"
     ]
    }
   ],
   "source": [
    "assortativity = nx.degree_pearson_correlation_coefficient(G)\n",
    "print(f\"Assortativity: {assortativity}\")"
   ]
  },
  {
   "cell_type": "markdown",
   "metadata": {},
   "source": [
    "### Community detection"
   ]
  },
  {
   "cell_type": "markdown",
   "metadata": {},
   "source": [
    "#### Greedy modulatiry optimization"
   ]
  },
  {
   "cell_type": "code",
   "execution_count": 40,
   "metadata": {},
   "outputs": [
    {
     "name": "stdout",
     "output_type": "stream",
     "text": [
      "Number of communities: 41\n"
     ]
    },
    {
     "name": "stderr",
     "output_type": "stream",
     "text": [
      "C:\\Users\\szink\\AppData\\Local\\Temp\\ipykernel_20668\\1282689717.py:10: MatplotlibDeprecationWarning: The get_cmap function was deprecated in Matplotlib 3.7 and will be removed two minor releases later. Use ``matplotlib.colormaps[name]`` or ``matplotlib.colormaps.get_cmap(obj)`` instead.\n",
      "  cmap = plt.cm.get_cmap('viridis', amount_of_communities)\n"
     ]
    },
    {
     "data": {
      "image/png": "[encoded data removed]",
      "text/plain": [
       "<Figure size 640x480 with 1 Axes>"
      ]
     },
     "metadata": {},
     "output_type": "display_data"
    }
   ],
   "source": [
    "communities = nx.algorithms.community.greedy_modularity_communities(G)\n",
    "amount_of_communities = len(communities)\n",
    "\n",
    "print(f\"Number of communities: {amount_of_communities}\")\n",
    "\n",
    "# Create a dictionary that maps each node to its community\n",
    "community_map = {node: i for i, community in enumerate(communities) for node in community}\n",
    "\n",
    "pos = nx.spring_layout(G)\n",
    "cmap = plt.cm.get_cmap('viridis', amount_of_communities)\n",
    "\n",
    "# Draw nodes with colors assigned based on their community\n",
    "nx.draw_networkx_nodes(G, pos, node_size=40, cmap=cmap, \n",
    "                       node_color=[community_map[node] for node in G.nodes()])\n",
    "\n",
    "nx.draw_networkx_edges(G, pos, alpha=0.5)\n",
    "plt.show()"
   ]
  },
  {
   "cell_type": "markdown",
   "metadata": {},
   "source": [
    "#### Louvain method"
   ]
  },
  {
   "cell_type": "code",
   "execution_count": 41,
   "metadata": {},
   "outputs": [
    {
     "name": "stdout",
     "output_type": "stream",
     "text": [
      "Number of communities: 39\n"
     ]
    },
    {
     "name": "stderr",
     "output_type": "stream",
     "text": [
      "C:\\Users\\szink\\AppData\\Local\\Temp\\ipykernel_20668\\3782576591.py:10: MatplotlibDeprecationWarning: The get_cmap function was deprecated in Matplotlib 3.7 and will be removed two minor releases later. Use ``matplotlib.colormaps[name]`` or ``matplotlib.colormaps.get_cmap(obj)`` instead.\n",
      "  cmap = plt.cm.get_cmap('viridis', amount_of_communities)\n"
     ]
    },
    {
     "data": {
      "image/png": "[encoded data removed]",
      "text/plain": [
       "<Figure size 640x480 with 1 Axes>"
      ]
     },
     "metadata": {},
     "output_type": "display_data"
    }
   ],
   "source": [
    "communities = nx.algorithms.community.louvain_communities(G)\n",
    "amount_of_communities = len(communities)\n",
    "\n",
    "print(f\"Number of communities: {amount_of_communities}\")\n",
    "\n",
    "# Create a dictionary that maps each node to its community\n",
    "community_map = {node: i for i, community in enumerate(communities) for node in community}\n",
    "\n",
    "pos = nx.spring_layout(G)\n",
    "cmap = plt.cm.get_cmap('viridis', amount_of_communities)\n",
    "\n",
    "# Draw nodes with colors assigned based on their community\n",
    "nx.draw_networkx_nodes(G, pos, node_size=40, cmap=cmap, \n",
    "                       node_color=[community_map[node] for node in G.nodes()])\n",
    "\n",
    "nx.draw_networkx_edges(G, pos, alpha=0.5)\n",
    "plt.show()"
   ]
  },
  {
   "cell_type": "code",
   "execution_count": 16,
   "metadata": {},
   "outputs": [
    {
     "name": "stdout",
     "output_type": "stream",
     "text": [
      "Number of connected components: 20\n"
     ]
    }
   ],
   "source": [
    "connected_components_count = len(list(nx.connected_components(G)))\n",
    "print(f\"Number of connected components: {connected_components_count}\")"
   ]
  },
  {
   "cell_type": "markdown",
   "metadata": {},
   "source": [
    "### Clustering Coefficient"
   ]
  },
  {
   "cell_type": "markdown",
   "metadata": {},
   "source": [
    "#### Biological Network"
   ]
  },
  {
   "cell_type": "code",
   "execution_count": 31,
   "metadata": {},
   "outputs": [
    {
     "name": "stdout",
     "output_type": "stream",
     "text": [
      "Average Clustering Coefficient: 0.0\n"
     ]
    }
   ],
   "source": [
    "avg_clustering_coefficient = nx.average_clustering(G)\n",
    "print(f\"Average Clustering Coefficient: {avg_clustering_coefficient}\")"
   ]
  },
  {
   "cell_type": "markdown",
   "metadata": {},
   "source": [
    " In some types of networks, such as certain technological or biological networks, a low clustering coefficient might be expected due to the network's inherent structure or formation processes."
   ]
  },
  {
   "cell_type": "markdown",
   "metadata": {},
   "source": [
    "#### Random network comparison"
   ]
  },
  {
   "cell_type": "code",
   "execution_count": 50,
   "metadata": {},
   "outputs": [
    {
     "name": "stdout",
     "output_type": "stream",
     "text": [
      "Average clustering coefficient of the original network: 0.0\n",
      "Average clustering coefficient of a comparable random network: 0.0018788467768059607\n"
     ]
    }
   ],
   "source": [
    "random_graph = nx.gnm_random_graph(G.number_of_nodes(), G.number_of_edges())\n",
    "print(\"Average clustering coefficient of the original network:\", nx.average_clustering(G))\n",
    "print(\"Average clustering coefficient of a comparable random network:\", nx.average_clustering(random_graph))\n"
   ]
  },
  {
   "cell_type": "markdown",
   "metadata": {},
   "source": [
    "### Connectivity of the graph"
   ]
  },
  {
   "cell_type": "markdown",
   "metadata": {},
   "source": [
    "#### Connected components"
   ]
  },
  {
   "cell_type": "code",
   "execution_count": 34,
   "metadata": {},
   "outputs": [
    {
     "name": "stdout",
     "output_type": "stream",
     "text": [
      "Number of Connected Components: 20\n"
     ]
    }
   ],
   "source": [
    "# For undirected graphs\n",
    "connected_components = nx.number_connected_components(G)\n",
    "print(f\"Number of Connected Components: {connected_components}\")"
   ]
  },
  {
   "cell_type": "markdown",
   "metadata": {},
   "source": [
    "#### Largest Connected Component"
   ]
  },
  {
   "cell_type": "code",
   "execution_count": 54,
   "metadata": {},
   "outputs": [
    {
     "name": "stdout",
     "output_type": "stream",
     "text": [
      "Average clustering coefficient of the LCC: 0.0\n"
     ]
    }
   ],
   "source": [
    "largest_cc = max(nx.connected_components(G), key=len)\n",
    "subgraph = G.subgraph(largest_cc)\n",
    "print(f\"Average clustering coefficient of the LCC: {nx.average_clustering(subgraph)}\")\n",
    "\n"
   ]
  }
 ],
 "metadata": {
  "kernelspec": {
   "display_name": "venv",
   "language": "python",
   "name": "python3"
  },
  "language_info": {
   "codemirror_mode": {
    "name": "ipython",
    "version": 3
   },
   "file_extension": ".py",
   "mimetype": "text/x-python",
   "name": "python",
   "nbconvert_exporter": "python",
   "pygments_lexer": "ipython3",
   "version": "3.11.6"
  }
 },
 "nbformat": 4,
 "nbformat_minor": 2
}
